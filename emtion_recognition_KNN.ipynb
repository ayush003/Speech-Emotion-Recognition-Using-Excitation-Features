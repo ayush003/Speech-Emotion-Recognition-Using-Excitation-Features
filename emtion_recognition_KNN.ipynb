{
  "nbformat": 4,
  "nbformat_minor": 0,
  "metadata": {
    "kernelspec": {
      "display_name": "Python 3",
      "language": "python",
      "name": "python3"
    },
    "language_info": {
      "codemirror_mode": {
        "name": "ipython",
        "version": 3
      },
      "file_extension": ".py",
      "mimetype": "text/x-python",
      "name": "python",
      "nbconvert_exporter": "python",
      "pygments_lexer": "ipython3",
      "version": "3.8.3"
    },
    "colab": {
      "name": "team1_KNN_finalV.ipynb",
      "provenance": []
    }
  },
  "cells": [
    {
      "cell_type": "code",
      "metadata": {
        "id": "qZWXcBGHGUWX"
      },
      "source": [
        "from audiolazy import lpc\n",
        "import parselmouth\n",
        "import matplotlib.pyplot as plt\n",
        "import numpy as np\n",
        "from scipy.io import wavfile\n",
        "from scipy import signal, integrate\n",
        "import sounddevice as sd"
      ],
      "execution_count": null,
      "outputs": []
    },
    {
      "cell_type": "code",
      "metadata": {
        "id": "gvI1SFfBGUWf"
      },
      "source": [
        "inpFolder = './emoDB/wav/'\n",
        "file1 = inpFolder+'08a01Fd.wav'\n",
        "file2 = inpFolder+'08a01Na.wav'"
      ],
      "execution_count": null,
      "outputs": []
    },
    {
      "cell_type": "code",
      "metadata": {
        "id": "dlkNXR8FGUWg"
      },
      "source": [
        "def plot_pitch(pitch):\n",
        "    pitch_values = pitch.selected_array['frequency']\n",
        "    \n",
        "    # replace unvoiced samples by NaN to not plot\n",
        "    pitch_values[pitch_values==0] = np.nan\n",
        "    plt.plot(pitch.xs(), pitch_values,'o', markersize=5, color='w')\n",
        "    plt.plot(pitch.xs(), pitch_values,'o', markersize=4)\n",
        "    \n",
        "    plt.grid(True)\n",
        "    plt.ylim(0, pitch.ceiling/2)\n",
        "    plt.ylabel(\"Pitch(Hz)\")\n",
        "    plt.xlabel(\"Time(sec)\")\n",
        "    plt.title('Pitch Contour')"
      ],
      "execution_count": null,
      "outputs": []
    },
    {
      "cell_type": "code",
      "metadata": {
        "id": "fNz9BoMLGUWh"
      },
      "source": [
        "#Zero frequency filtering\n",
        "def zff(sigslice,pitchdur,fs):    \n",
        "    x_n = (sigslice - np.roll(sigslice,1))[1:] #pre-emphasis\n",
        "    y1_n = signal.filtfilt(1,[-2,1],x_n)  #1st zff\n",
        "    y2_n = signal.filtfilt(1,[-2,1],y1_n) #2nd zff\n",
        "    y_n = y2_n\n",
        "    n = len(y_n)\n",
        "\n",
        "    meanlen = int(pitchdur*fs/1000)\n",
        "    ml = int(meanlen/2)\n",
        "\n",
        "    for i in range(n):\n",
        "        y_n[i] -= np.mean(y2_n[max(0,i-ml):min(n,i+ml)])\n",
        "    return y_n"
      ],
      "execution_count": null,
      "outputs": []
    },
    {
      "cell_type": "code",
      "metadata": {
        "id": "0xYJGFTKGUWh"
      },
      "source": [
        "#Finding glottal closure instant(gci) locations using zero crossings\n",
        "def zerocrossing(zffOut):\n",
        "    n = len(zffOut)\n",
        "    \n",
        "    locs = [i for i in range(1,n-1) if ((zffOut[i]==0 and zffOut[i+1]>0 and zffOut[i-1]<0) or (zffOut[i]<0 and zffOut[i+1]>0))]\n",
        "    #Base case\n",
        "    if len(locs)==0 or len(locs)==1:\n",
        "        return locs\n",
        "    moving_time_diff = [j-i for i, j in zip(locs[:-1], locs[1:])]\n",
        "    mean_diff = np.mean(moving_time_diff)/2\n",
        "    \n",
        "    #remove the zero crossings that are too close to each other\n",
        "    gci = [locs[i] for i in range(len(locs)-1) if locs[i+1]-locs[i]>mean_diff]\n",
        "    \n",
        "    if [locs[-1] - locs[-2]] > mean_diff:\n",
        "        gci.append(locs[-1])\n",
        "    return gci"
      ],
      "execution_count": null,
      "outputs": []
    },
    {
      "cell_type": "code",
      "metadata": {
        "id": "xEePOMwrGUWj"
      },
      "source": [
        "def lpresidual(window, gci, slice_1ms):\n",
        "    filt = lpc.kautocor(window, 10)\n",
        "    a = filt.numerator\n",
        "    padlen = min(len(3*a[1:]),len(window)-1) #Adjusting padlength to avoid error of windowlength < padlength. Default padlen = 3 * a[1:]]\n",
        "    ex = signal.filtfilt(a[1:],1,window,padlen = padlen)\n",
        "    hilbert = signal.hilbert(ex) \n",
        "    env = np.abs(hilbert)\n",
        "    eoe = []\n",
        "    \n",
        "    for gciInd in gci: \n",
        "        segment = env[max(0, gciInd - slice_1ms):min(len(env), gciInd + slice_1ms)]\n",
        "        eoe.append(np.sum(segment**2))\n",
        "    \n",
        "    return eoe[1:]"
      ],
      "execution_count": null,
      "outputs": []
    },
    {
      "cell_type": "code",
      "metadata": {
        "id": "RwQX83QeGUWj"
      },
      "source": [
        "def feature_extract(filename):\n",
        "    fs, data = wavfile.read(filename)\n",
        "    #data = data/np.max(data)\n",
        "    data = np.array(data,dtype = np.float64)\n",
        "#     plt.figure()\n",
        "#     plt.plot(data)\n",
        "#     plt.figure()\n",
        "    \n",
        "    snd = parselmouth.Sound(filename)\n",
        "    pitch = snd.to_pitch()\n",
        "#     plot_pitch(pitch)\n",
        "    \n",
        "    #Calculating the avg. pitch freq and period\n",
        "    pitch_values = pitch.selected_array['frequency']\n",
        "    pitch_values[pitch_values==0] = np.nan\n",
        "    meanpitch = np.nanmean(pitch_values)\n",
        "    pitchdur = 1/meanpitch * 1000\n",
        "    #print(\"Avg pitch = {a} Hz and avg pitch duration = {b} ms\".format(a = meanpitch, b = pitchdur))\n",
        "\n",
        "    #removing the unvoiced regions using energy thresholding\n",
        "    energy = data**2\n",
        "    maxenergy = np.max(data**2)\n",
        "    threshold = maxenergy/20\n",
        "#     plt.figure()\n",
        "#     plt.plot(energy)\n",
        "#     plt.title('Energy')\n",
        "    \n",
        "    voiced = np.array([ele for ele in data if ele**2 >= threshold ])\n",
        "#     plt.figure()\n",
        "#     plt.plot(voiced)\n",
        "#     plt.title('Voiced Speech')\n",
        "    \n",
        "    #extracting the features frame by frame\n",
        "    frame = int(16 * fs/1000)\n",
        "    slice_1ms = frame // 20\n",
        "\n",
        "    n = len(voiced)\n",
        "    instant_freq = []\n",
        "    soe_feature = []\n",
        "    eoe_feature = []\n",
        "    zff_plot = []\n",
        "    gci_plot = []\n",
        "    for index in range(0,n,frame):\n",
        "        eoe = []\n",
        "        sigslice = voiced[index:min(n,index+frame)]\n",
        "        if len(sigslice)<30:\n",
        "            continue\n",
        "        \n",
        "        zffOut = zff(sigslice, pitchdur, fs)\n",
        "        \n",
        "        gci = zerocrossing(zffOut)\n",
        "        gci_plot.extend([x+len(zff_plot) for x in gci])\n",
        "\n",
        "        zff_plot.extend(zffOut)\n",
        "\n",
        "        #instanteneous frequency\n",
        "        freq_sample = [fs/(gci[i+1] - gci[i]) for i in range(len(gci)-1)]\n",
        "        instant_freq.extend(freq_sample)\n",
        "\n",
        "        #strength of excitation\n",
        "        soe = [(zffOut[gciInd+1]-zffOut[gciInd-1])/2 for gciInd in gci]\n",
        "        soe_feature.extend(soe[1:])\n",
        "\n",
        "        #energy of excitation\n",
        "        eoe_feature.extend(lpresidual(sigslice, gci, slice_1ms))\n",
        "\n",
        "    instant_freq = np.array(instant_freq)\n",
        "    soe_feature = np.array(soe_feature)\n",
        "    eoe_feature = np.array(eoe_feature)\n",
        "    \n",
        "#     plt.figure(figsize=(15,15))\n",
        "#     plt.plot(zff_plot)\n",
        "#     plt.scatter(gci_plot,[zff_plot[x] for x in gci_plot], color='orange')\n",
        "#     print(len(zff_plot), len(gci_plot))\n",
        "    \n",
        "    #instant_freq, soe_feature, eoe_feature = normalisefeature(instant_freq,soe_feature,eoe_feature)\n",
        "    return instant_freq, soe_feature, eoe_feature"
      ],
      "execution_count": null,
      "outputs": []
    },
    {
      "cell_type": "code",
      "metadata": {
        "id": "ThcyfDsPGUWk"
      },
      "source": [
        "def normalisefeature(f0,soe_feature,eoe_feature,mi,ms,me,si,ss,se): \n",
        "    f0 = (f0 - mi)/si\n",
        "    soe_feature = (soe_feature - ms)/ss\n",
        "    eoe_feature = (eoe_feature - me)/se\n",
        "    return f0,soe_feature,eoe_feature"
      ],
      "execution_count": null,
      "outputs": []
    },
    {
      "cell_type": "code",
      "metadata": {
        "id": "SMKtq-DzGUWk"
      },
      "source": [
        "\n"
      ],
      "execution_count": null,
      "outputs": []
    },
    {
      "cell_type": "code",
      "metadata": {
        "id": "lc8trYcgGUWl",
        "outputId": "0ad61b66-ea6c-439e-db42-7bb9a8635e87"
      },
      "source": [
        "i1, s1, e1 = feature_extract(file2)\n",
        "mi , ms, me = np.mean(i1),np.mean(s1),np.mean(e1)\n",
        "si,ss,se = np.std(i1),np.mean(s1),np.mean(e1)\n",
        "\n",
        "#i1, s1, e1 = normalisefeature(i1,s1,e1,mi,ms,me,si,ss,se)\n",
        "i2, s2, e2 = feature_extract(file1)\n",
        "#i2, s2, e2 = normalisefeature(i2,s2,e2,mi,ms,me,si,ss,se)\n",
        "\n",
        "print(i1.shape, s1.shape, e1.shape)\n",
        "print(i2.shape, s2.shape, e2.shape)"
      ],
      "execution_count": null,
      "outputs": [
        {
          "output_type": "stream",
          "text": [
            "(98,) (98,) (98,)\n",
            "(320,) (320,) (320,)\n"
          ],
          "name": "stdout"
        }
      ]
    },
    {
      "cell_type": "code",
      "metadata": {
        "id": "-ZJ2iO8lGUWm"
      },
      "source": [
        "# plt.scatter(s1,i1,marker='.',label='Neutral')\n",
        "# plt.scatter(s2,i2,marker='x',label='Happy')\n",
        "# plt.xlabel('SoE')\n",
        "# plt.ylabel('F0')\n",
        "# plt.legend()"
      ],
      "execution_count": null,
      "outputs": []
    },
    {
      "cell_type": "code",
      "metadata": {
        "id": "K9n2MOnjGUWn"
      },
      "source": [
        "# plt.scatter(e1,i1,marker='.',label='Neutral')\n",
        "# plt.scatter(e2,i2,marker='x',label='Happy')\n",
        "# plt.xlabel('EoE')\n",
        "# plt.ylabel('F0')\n",
        "# plt.legend()"
      ],
      "execution_count": null,
      "outputs": []
    },
    {
      "cell_type": "code",
      "metadata": {
        "id": "tOEXVXLEGUWn"
      },
      "source": [
        "# plt.scatter(s1,e1,marker='.',label='Neutral')\n",
        "# plt.scatter(s2,e2,marker='x',label='Happy')\n",
        "# plt.xlabel('SoE')\n",
        "# plt.ylabel('EoE')\n",
        "# plt.legend()"
      ],
      "execution_count": null,
      "outputs": []
    },
    {
      "cell_type": "code",
      "metadata": {
        "id": "kkd-hUyEGUWn"
      },
      "source": [
        "def extract_2D_features(filename):\n",
        "    i, soe, eoe = feature_extract(filename)\n",
        "    return i,soe,eoe"
      ],
      "execution_count": null,
      "outputs": []
    },
    {
      "cell_type": "code",
      "metadata": {
        "id": "dbcihcCzGUWo"
      },
      "source": [
        "def neutral_features(inpFolder): \n",
        "    i = 0\n",
        "    #Speaker list\n",
        "    speakers = ['03','08','09','10','11','12','13','14','15','16']\n",
        "    #Initialising\n",
        "    import os\n",
        "    neutral = np.empty((0,3),float)\n",
        "    neutral_temp = np.empty((0,3),float)\n",
        "    mean_speakers = np.empty((0,3),float) \n",
        "    std_speakers = np.empty((0,3),float)\n",
        "    with os.scandir(inpFolder) as entries:\n",
        "            for entry in entries:\n",
        "                if entry.name[:2] == speakers[i]:\n",
        "                    #Storing all neutral features of one speaker in an N dim array\n",
        "                    if entry.name[5]=='N': \n",
        "                        f0,soe,eoe = extract_2D_features(inpFolder+entry.name)\n",
        "                        features = np.column_stack((f0,soe,eoe))\n",
        "                        neutral_temp = np.row_stack((neutral_temp,features))\n",
        "\n",
        "                else:\n",
        "                    i+=1\n",
        "                    #Storing the mean value of one speaker for neutral emotion\n",
        "                    mean_speakers = np.row_stack((mean_speakers,np.mean(neutral_temp,axis = 0)))\n",
        "                    #Storing the std value of one speaker for neutral emotion\n",
        "                    std_speakers = np.row_stack((std_speakers,np.std(neutral_temp,axis = 0)))\n",
        "                    neutral_temp = (neutral_temp - np.mean(neutral_temp,axis = 0))/np.std(neutral_temp,axis = 0) # Normalising the neutral feature\n",
        "                    neutral = np.row_stack((neutral,neutral_temp))\n",
        "                    neutral_temp = np.empty((0,3),float)\n",
        "    #Storing for the last speaker, because its missed in the loop\n",
        "    mean_speakers = np.row_stack((mean_speakers,np.mean(neutral_temp,axis = 0))) \n",
        "    std_speakers = np.row_stack((std_speakers,np.std(neutral_temp,axis = 0)))\n",
        "    neutral_temp = (neutral_temp - np.mean(neutral_temp,axis = 0))/np.std(neutral_temp,axis = 0)\n",
        "    neutral = np.row_stack((neutral,neutral_temp))\n",
        "    return neutral,speakers,mean_speakers,std_speakers\n",
        "    "
      ],
      "execution_count": null,
      "outputs": []
    },
    {
      "cell_type": "code",
      "metadata": {
        "id": "2XyXwlSeGUWo"
      },
      "source": [
        "def create_Data_matrix(neutral,speakers,mean_speakers,std_speakers,inpFolder = './emoDB/wav/',):\n",
        "    \n",
        "    f0_train = np.empty((0),float)\n",
        "    soe_train = np.empty((0),float)\n",
        "    eoe_train = np.empty((0),float)\n",
        "    #Fetching neutral features, speakerwise mean, speakerwise standard deviation\n",
        "    \n",
        "    i = 0\n",
        "    import os\n",
        "    with os.scandir(inpFolder) as entries:\n",
        "        for entry in entries:\n",
        "            if entry.name[:2]==speakers[i]:\n",
        "                if entry.name[5] == 'W' or entry.name[5] == 'F' or entry.name[5] == 'T' or entry.name[5] == 'N' :\n",
        "                    f0, soe, eoe  = extract_2D_features(inpFolder+entry.name)\n",
        "                    f0 = (f0 - mean_speakers[i,0])/std_speakers[i,0]\n",
        "                    soe = (soe - mean_speakers[i,1])/std_speakers[i,1]\n",
        "                    eoe = (eoe - mean_speakers[i,2])/std_speakers[i,2]#Normalising speakerwise\n",
        "                    \n",
        "                    \n",
        "                    pad = max(f0_train.T.shape[0],f0.shape[0])\n",
        "                    if f0_train.T.shape[0] == 0:\n",
        "                        pad = pad -1\n",
        "                   \n",
        "\n",
        "                    if f0_train.T.shape[0] < f0.shape[0]:\n",
        "                        f0_train = np.column_stack((f0_train,np.zeros((f0_train.shape[0],pad-f0_train.T.shape[0]))))\n",
        "                        soe_train = np.column_stack((soe_train,np.zeros((soe_train.shape[0],pad-soe_train.T.shape[0]))))\n",
        "                        eoe_train = np.column_stack((eoe_train,np.zeros((eoe_train.shape[0],pad-eoe_train.T.shape[0]))))\n",
        "                    if f0_train.T.shape[0] > f0.shape[0]:\n",
        "                        f0 = np.append(f0,np.zeros(pad-f0.shape[0]))\n",
        "                        soe = np.append(soe,np.zeros(pad-soe.shape[0]))\n",
        "                        eoe = np.append(eoe,np.zeros(pad-eoe.shape[0]))\n",
        "                    f0_train = np.row_stack((f0_train,f0.T))\n",
        "                    soe_train = np.row_stack((soe_train,soe.T))\n",
        "                    eoe_train = np.row_stack((eoe_train,eoe.T))     \n",
        "                    \n",
        "            else:\n",
        "                i+=1 #We go to the next speaker\n",
        "                if entry.name[5] == 'W' or entry.name[5] == 'F' or entry.name[5] == 'T' or entry.name[5] == 'N': \n",
        "                    f0, soe, eoe  = extract_2D_features(inpFolder+entry.name)\n",
        "                    f0 = (f0 - mean_speakers[i,0])/std_speakers[i,0]\n",
        "                    soe = (soe - mean_speakers[i,1])/std_speakers[i,1]\n",
        "                    eoe = (eoe - mean_speakers[i,2])/std_speakers[i,2]#Normalising speakerwise\n",
        "                    \n",
        "                    pad = max(f0_train.T.shape[0],f0.shape[0])\n",
        "\n",
        "                    if f0_train.T.shape[0] < f0.shape[0]:\n",
        "                        f0_train = np.column_stack((f0_train,np.zeros((f0_train.shape[0],pad-f0_train.T.shape[0]))))\n",
        "                        soe_train = np.column_stack((soe_train,np.zeros((soe_train.shape[0],pad-soe_train.T.shape[0]))))\n",
        "                        eoe_train = np.column_stack((eoe_train,np.zeros((eoe_train.shape[0],pad-eoe_train.T.shape[0]))))\n",
        "                    if f0_train.T.shape[0] > f0.shape[0]:\n",
        "                        f0 = np.append(f0,np.zeros(pad-f0.shape[0]))\n",
        "                        soe = np.append(soe,np.zeros(pad-soe.shape[0]))\n",
        "                        eoe = np.append(eoe,np.zeros(pad-eoe.shape[0]))\n",
        "                    f0_train = np.row_stack((f0_train,f0.T))\n",
        "                    soe_train = np.row_stack((soe_train,soe.T))\n",
        "                    eoe_train = np.row_stack((eoe_train,eoe.T))\n",
        "    return f0_train,soe_train,eoe_train"
      ],
      "execution_count": null,
      "outputs": []
    },
    {
      "cell_type": "code",
      "metadata": {
        "id": "cxjUnGLxGUWo"
      },
      "source": [
        "def create_labels(f0_train,soe_train,eoe_train):\n",
        "    import os\n",
        "    y_label = np.asarray([])\n",
        "    with os.scandir(inpFolder) as entries:\n",
        "        for entry in entries:\n",
        "\n",
        "                if entry.name[5] == 'W' or entry.name[5] == 'F' or entry.name[5] == 'T' or entry.name[5] == 'N' :\n",
        "                        if entry.name[5] == 'W':\n",
        "                            y = 0\n",
        "                        if entry.name[5] == 'F':\n",
        "                            y = 1\n",
        "                        if entry.name[5] == 'T':\n",
        "                            y = 2\n",
        "                        if entry.name[5] == 'N':\n",
        "                            y = 3\n",
        "                        y_label = np.append(y_label,y)\n",
        "    f0_train,soe_train,eoe_train = np.column_stack((f0_train,y_label)),np.column_stack((soe_train,y_label)),np.column_stack((eoe_train,y_label))\n",
        "    return f0_train,soe_train,eoe_train"
      ],
      "execution_count": null,
      "outputs": []
    },
    {
      "cell_type": "code",
      "metadata": {
        "id": "dvjYew5NGUWp",
        "outputId": "80157857-800f-4773-896f-791bcd92715d"
      },
      "source": [
        "neutral,speakers,mean_speakers,std_speakers = neutral_features(inpFolder) "
      ],
      "execution_count": null,
      "outputs": [
        {
          "output_type": "stream",
          "text": [
            "<ipython-input-40-df0dde4c8ec5>:2: WavFileWarning: Chunk (non-data) not understood, skipping it.\n",
            "  fs, data = wavfile.read(filename)\n"
          ],
          "name": "stderr"
        }
      ]
    },
    {
      "cell_type": "code",
      "metadata": {
        "id": "vbHj-7bNGUWp",
        "outputId": "352d63d2-38f5-4820-a326-15880a3740a5"
      },
      "source": [
        "f0_train,soe_train,eoe_train = create_Data_matrix(neutral,speakers,mean_speakers,std_speakers,inpFolder = './emoDB/wav/')"
      ],
      "execution_count": null,
      "outputs": [
        {
          "output_type": "stream",
          "text": [
            "<ipython-input-40-df0dde4c8ec5>:2: WavFileWarning: Chunk (non-data) not understood, skipping it.\n",
            "  fs, data = wavfile.read(filename)\n"
          ],
          "name": "stderr"
        }
      ]
    },
    {
      "cell_type": "code",
      "metadata": {
        "id": "lfBsmEEGGUWp"
      },
      "source": [
        "#Creating labels\n",
        "f0_train,soe_train,eoe_train = create_labels(f0_train,soe_train,eoe_train)"
      ],
      "execution_count": null,
      "outputs": []
    },
    {
      "cell_type": "code",
      "metadata": {
        "id": "exyYpwt1GUWq",
        "outputId": "f825732c-4996-4963-987a-17d643a72a51"
      },
      "source": [
        "F0_train_initial,F0_test_initial = f0_train[:259,:],f0_train[259:,:]\n",
        "Soe_train_initial,Soe_test_initial = soe_train[:259,:],soe_train[259:,:]\n",
        "Eoe_train_initial,Eoe_test_initial = eoe_train[:259,:],eoe_train[259:,:]\n",
        "n = num_samples_in_each_class_for_training = 45\n",
        "d = F0_train_initial.shape[1]-1 #Dimension\n",
        "F0_train,Soe_train,Eoe_train = np.empty((0,F0_train_initial.shape[1]),float),np.empty((0,F0_train_initial.shape[1]),float),np.empty((0,F0_train_initial.shape[1]),float)\n",
        "F0_test,Soe_test,Eoe_test = np.empty((0,F0_train_initial.shape[1]),float),np.empty((0,F0_train_initial.shape[1]),float),np.empty((0,F0_train_initial.shape[1]),float)\n",
        "for i in range(4):\n",
        "    F0,Soe,Eoe = F0_train_initial[np.where(F0_train_initial[:,d]==i)][:n,:],Soe_train_initial[np.where(Soe_train_initial[:,d]==i)][:n,:],Eoe_train_initial[np.where(Eoe_train_initial[:,d]==i)][:n,:]\n",
        "    F0_train,Soe_train,Eoe_train = np.row_stack((F0_train,F0)),np.row_stack((Soe_train,Soe)),np.row_stack((Eoe_train,Eoe))\n",
        "\n",
        "n = num_samples_in_each_class_for_training = 15    \n",
        "for i in range(4):\n",
        "    F0,Soe,Eoe = F0_test_initial[np.where(F0_test_initial[:,d]==i)][:n,:],Soe_test_initial[np.where(Soe_test_initial[:,d]==i)][:n,:],Eoe_test_initial[np.where(Eoe_test_initial[:,d]==i)][:n,:]\n",
        "    F0_test,Soe_test,Eoe_test = np.row_stack((F0_test,F0)),np.row_stack((Soe_test,Soe)),np.row_stack((Eoe_test,Eoe))\n",
        "print(F0_train.shape,F0_test.shape)"
      ],
      "execution_count": null,
      "outputs": [
        {
          "output_type": "stream",
          "text": [
            "(180, 451) (60, 451)\n"
          ],
          "name": "stdout"
        }
      ]
    },
    {
      "cell_type": "code",
      "metadata": {
        "id": "ngZnJngMGUWq"
      },
      "source": [
        "from scipy.spatial import distance\n",
        "test_arr_sum = np.empty((0,2),float)\n",
        "y_predict = np.asarray([])\n",
        "#Taking the first test sample\n",
        "for n in range(F0_test.shape[0]):\n",
        "    test_f0,test_soe,test_eoe = F0_test[n,:],Soe_test[n,:],Eoe_test[n,:]\n",
        "    test_arr_sum = np.empty((0,2),float)\n",
        "    #dropping  the last element which is class label\n",
        "    test_f0,test_soe,test_eoe = np.delete(test_f0,d,0),np.delete(test_soe,d,0),np.delete(test_soe,d,0)\n",
        "    np.where(F0_test[:,d]==3)\n",
        "    for i in range(F0_train.shape[0]):\n",
        "        d1 = distance.euclidean(F0_train[i,:d],test_f0)\n",
        "        d2 = distance.euclidean(Soe_train[i,:d],test_soe)\n",
        "        d3 = distance.euclidean(Eoe_train[i,:d],test_eoe)\n",
        "        sum_dist = np.sqrt(d1*d1 + d2*d2 + d3*d3)\n",
        "        test_arr_sum = np.row_stack((test_arr_sum,np.asarray([sum_dist,int(F0_train[i,d])])))\n",
        "    K = 8\n",
        "    test_label = test_arr_sum[np.argsort(test_arr_sum[:,0])][:K,1] #Taking K = 8\n",
        "    test_label = test_label.astype(int)\n",
        "    y_pred = np.bincount(test_label).argmax() #Predicted y\n",
        "    y_predict = np.append(y_predict,y_pred)   "
      ],
      "execution_count": null,
      "outputs": []
    },
    {
      "cell_type": "code",
      "metadata": {
        "id": "ZZ4988rIGUWq",
        "outputId": "cc52d643-3a1a-427d-84ea-8470b88467c8"
      },
      "source": [
        "accuracy = np.sum(F0_test[:,d]==y_predict)/(F0_test.shape[0])*100\n",
        "print(\"Accuracy = \",accuracy)"
      ],
      "execution_count": null,
      "outputs": [
        {
          "output_type": "stream",
          "text": [
            "Accuracy =  78.33333333333333\n"
          ],
          "name": "stdout"
        }
      ]
    },
    {
      "cell_type": "code",
      "metadata": {
        "id": "uU8DAjZHGUWr",
        "outputId": "ef65a178-410e-4c7b-aa67-802eaff60d76"
      },
      "source": [
        "# Classification Report\n",
        "test_0 = F0_test[:,d][np.where(F0_test[:,d] == 0)].shape[0] #Angry(W)\n",
        "test_1 = F0_test[:,d][np.where(F0_test[:,d] == 1)].shape[0] #Happy(F)\n",
        "test_2 = F0_test[:,d][np.where(F0_test[:,d] == 2)].shape[0]#Sad (T)\n",
        "test_3 = F0_test[:,d][np.where(F0_test[:,d] == 3)].shape[0]#Neutral(N)\n",
        "\n",
        "pred_0_0 = y_predict[np.where(y_predict[np.where(F0_test[:,d]==0)]==0)].shape[0] #TP Angry\n",
        "pred_0_1 = y_predict[np.where(y_predict[np.where(F0_test[:,d]==0)]==1)].shape[0] #FP Happy\n",
        "pred_0_2 = y_predict[np.where(y_predict[np.where(F0_test[:,d]==0)]==2)].shape[0] #FP Sad\n",
        "pred_0_3 = y_predict[np.where(y_predict[np.where(F0_test[:,d]==0)]==3)].shape[0] #FP Neutral\n",
        "\n",
        "pred_1_0 = y_predict[np.where(y_predict[np.where(F0_test[:,d]==1)]==0)].shape[0] #FP Angry\n",
        "pred_1_1 = y_predict[np.where(y_predict[np.where(F0_test[:,d]==1)]==1)].shape[0] #TP Happy\n",
        "pred_1_2 = y_predict[np.where(y_predict[np.where(F0_test[:,d]==1)]==2)].shape[0] #FP Sad\n",
        "pred_1_3 = y_predict[np.where(y_predict[np.where(F0_test[:,d]==1)]==3)].shape[0] #FP Neutral\n",
        "\n",
        "pred_2_0 = y_predict[np.where(y_predict[np.where(F0_test[:,d]==2)]==0)].shape[0] #FP Angry\n",
        "pred_2_1 = y_predict[np.where(y_predict[np.where(F0_test[:,d]==2)]==1)].shape[0] #FP Happy\n",
        "pred_2_2 = y_predict[np.where(y_predict[np.where(F0_test[:,d]==2)]==2)].shape[0] #TP Sad\n",
        "pred_2_3 = y_predict[np.where(y_predict[np.where(F0_test[:,d]==2)]==3)].shape[0] #FP Neutral\n",
        "\n",
        "pred_3_0 = y_predict[np.where(y_predict[np.where(F0_test[:,d]==3)]==0)].shape[0] #FP Angry\n",
        "pred_3_1 = y_predict[np.where(y_predict[np.where(F0_test[:,d]==3)]==1)].shape[0] #FP Happy\n",
        "pred_3_2 = y_predict[np.where(y_predict[np.where(F0_test[:,d]==3)]==2)].shape[0] #FP Sad\n",
        "pred_3_3 = y_predict[np.where(y_predict[np.where(F0_test[:,d]==3)]==3)].shape[0] #TP Neutral\n",
        "print(\"\\tAngry \\t Happy \\t Sad \\t Neutral\")\n",
        "print(\"Angry \\t\",round(pred_0_0/15,2),\"\\t\",round(pred_0_1/15,2),\"\\t\",round(pred_0_2/15,2),\"\\t\",round(pred_0_3/15,2))\n",
        "print(\"Happy \\t\",round(pred_1_0/15,2),\"\\t\",round(pred_1_1/15,2),\"\\t\",round(pred_1_2/15,2),\"\\t\",round(pred_1_3/15,2))\n",
        "print(\"Sad \\t\",round(pred_2_0/15,2),\"\\t\",round(pred_2_1/15,2),\"\\t\",round(pred_2_2/15,2),\"\\t\",round(pred_2_3/15,2))\n",
        "print(\"Neutral\\t\",round(pred_3_0/15,2),\"\\t\",round(pred_3_1/15,2),\"\\t\",round(pred_3_2/15,2),\"\\t\",round(pred_3_3/15,2))\n"
      ],
      "execution_count": null,
      "outputs": [
        {
          "output_type": "stream",
          "text": [
            "\tAngry \t Happy \t Sad \t Neutral\n",
            "Angry \t 0.67 \t 0.27 \t 0.0 \t 0.07\n",
            "Happy \t 0.07 \t 0.8 \t 0.0 \t 0.13\n",
            "Sad \t 0.0 \t 0.0 \t 1.0 \t 0.0\n",
            "Neutral\t 0.0 \t 0.0 \t 0.33 \t 0.67\n"
          ],
          "name": "stdout"
        }
      ]
    },
    {
      "cell_type": "code",
      "metadata": {
        "id": "Vjt7o1trGUWr",
        "outputId": "6a7398a8-ca6c-41c8-8794-5aadd9b7d956"
      },
      "source": [
        "plt.scatter(F0_test[np.where(F0_test[:,d]==0)][0],Soe_test[np.where(Soe_test[:,d]==0)][0],alpha = 0.9,marker='.',label='Angry')\n",
        "plt.scatter(F0_test[np.where(F0_test[:,d]==3)][0],Soe_test[np.where(Soe_test[:,d]==3)][0],alpha = 0.9,marker='x',label='Neutral')\n",
        "plt.xlabel('F0',color = 'white')\n",
        "plt.ylabel('SoE',color = 'white')\n",
        "plt.legend()\n"
      ],
      "execution_count": null,
      "outputs": [
        {
          "output_type": "execute_result",
          "data": {
            "text/plain": [
              "<matplotlib.legend.Legend at 0x1c18c6c0610>"
            ]
          },
          "metadata": {
            "tags": []
          },
          "execution_count": 57
        },
        {
          "output_type": "display_data",
          "data": {
            "image/png": "[encoded data removed]",
            "text/plain": [
              "<Figure size 432x288 with 1 Axes>"
            ]
          },
          "metadata": {
            "tags": [],
            "needs_background": "light"
          }
        }
      ]
    },
    {
      "cell_type": "code",
      "metadata": {
        "id": "WHP91QwlGUWr",
        "outputId": "d4590b69-f45a-44f3-e2a8-60147e34966b"
      },
      "source": [
        "plt.scatter(F0_test[np.where(F0_test[:,d]==0)][0],Eoe_test[np.where(Soe_test[:,d]==0)][0],alpha = 0.9,marker='.',label='Angry')\n",
        "plt.scatter(F0_test[np.where(F0_test[:,d]==3)][0],Eoe_test[np.where(Soe_test[:,d]==3)][0],alpha = 0.9,marker='x',label='Neutral')\n",
        "plt.xlabel('F0',color = 'white')\n",
        "plt.ylabel('EoE',color = 'white')\n",
        "plt.legend()"
      ],
      "execution_count": null,
      "outputs": [
        {
          "output_type": "execute_result",
          "data": {
            "text/plain": [
              "<matplotlib.legend.Legend at 0x1c18c8462b0>"
            ]
          },
          "metadata": {
            "tags": []
          },
          "execution_count": 58
        },
        {
          "output_type": "display_data",
          "data": {
            "image/png": "[encoded data removed]",
            "text/plain": [
              "<Figure size 432x288 with 1 Axes>"
            ]
          },
          "metadata": {
            "tags": [],
            "needs_background": "light"
          }
        }
      ]
    },
    {
      "cell_type": "code",
      "metadata": {
        "id": "1WhJ9_yXGUWs",
        "outputId": "7cb5b32b-7bb3-42de-e683-cf0067c3b3a2"
      },
      "source": [
        "plt.scatter(Soe_test[np.where(F0_test[:,d]==0)][0],Eoe_test[np.where(Soe_test[:,d]==0)][0],alpha = 0.9,marker='.',label='Angry')\n",
        "plt.scatter(Soe_test[np.where(F0_test[:,d]==3)][0],Eoe_test[np.where(Soe_test[:,d]==3)][0],alpha = 0.9,marker='x',label='Neutral')\n",
        "plt.xlabel('SoE',color = 'white')\n",
        "plt.ylabel('EoE',color = 'white')\n",
        "plt.legend()"
      ],
      "execution_count": null,
      "outputs": [
        {
          "output_type": "execute_result",
          "data": {
            "text/plain": [
              "<matplotlib.legend.Legend at 0x1c18bf6bf70>"
            ]
          },
          "metadata": {
            "tags": []
          },
          "execution_count": 59
        },
        {
          "output_type": "display_data",
          "data": {
            "image/png": "[encoded data removed]",
            "text/plain": [
              "<Figure size 432x288 with 1 Axes>"
            ]
          },
          "metadata": {
            "tags": [],
            "needs_background": "light"
          }
        }
      ]
    },
    {
      "cell_type": "code",
      "metadata": {
        "id": "_duwwYIaGUWs",
        "outputId": "d7f97c8e-bd31-4151-d4b9-5d59df77efca"
      },
      "source": [
        "plt.scatter(F0_test[np.where(F0_test[:,d]==1)][0],Soe_test[np.where(Soe_test[:,d]==1)][0],alpha = 0.9,marker='.',label='Happy')\n",
        "plt.scatter(F0_test[np.where(F0_test[:,d]==3)][0],Soe_test[np.where(Soe_test[:,d]==3)][0],alpha = 0.9,marker='x',label='Neutral')\n",
        "plt.xlabel('F0', color = 'white')\n",
        "plt.ylabel('SoE', color = 'white')\n",
        "plt.legend()"
      ],
      "execution_count": null,
      "outputs": [
        {
          "output_type": "execute_result",
          "data": {
            "text/plain": [
              "<matplotlib.legend.Legend at 0x1c18bfc7190>"
            ]
          },
          "metadata": {
            "tags": []
          },
          "execution_count": 60
        },
        {
          "output_type": "display_data",
          "data": {
            "image/png": "[encoded data removed]",
            "text/plain": [
              "<Figure size 432x288 with 1 Axes>"
            ]
          },
          "metadata": {
            "tags": [],
            "needs_background": "light"
          }
        }
      ]
    },
    {
      "cell_type": "code",
      "metadata": {
        "id": "SFit6fvtGUWs",
        "outputId": "2e405c1c-df8e-4b94-a92f-0775b0a5adc6"
      },
      "source": [
        "plt.scatter(F0_test[np.where(F0_test[:,d]==1)][0],Eoe_test[np.where(Soe_test[:,d]==1)][0],alpha = 0.9,marker='.',label='Happy')\n",
        "plt.scatter(F0_test[np.where(F0_test[:,d]==3)][0],Eoe_test[np.where(Soe_test[:,d]==3)][0],alpha = 0.9,marker='x',label='Neutral')\n",
        "plt.xlabel('F0',color = 'white')\n",
        "plt.ylabel('EoE', color = 'white')\n",
        "plt.legend()"
      ],
      "execution_count": null,
      "outputs": [
        {
          "output_type": "execute_result",
          "data": {
            "text/plain": [
              "<matplotlib.legend.Legend at 0x1c18c43dc40>"
            ]
          },
          "metadata": {
            "tags": []
          },
          "execution_count": 61
        },
        {
          "output_type": "display_data",
          "data": {
            "image/png": "[encoded data removed]",
            "text/plain": [
              "<Figure size 432x288 with 1 Axes>"
            ]
          },
          "metadata": {
            "tags": [],
            "needs_background": "light"
          }
        }
      ]
    },
    {
      "cell_type": "code",
      "metadata": {
        "id": "uvd1LjKyGUWs",
        "outputId": "ba264d4f-ce92-4af4-8996-9cafcae4fbd1"
      },
      "source": [
        "plt.scatter(Soe_test[np.where(F0_test[:,d]==1)][0],Eoe_test[np.where(Soe_test[:,d]==1)][0],alpha = 0.9,marker='.',label='Happy')\n",
        "plt.scatter(Soe_test[np.where(F0_test[:,d]==3)][0],Eoe_test[np.where(Soe_test[:,d]==3)][0],alpha = 0.9,marker='x',label='Neutral')\n",
        "plt.xlabel('SoE',color = 'white')\n",
        "plt.ylabel('EoE', color = 'white')\n",
        "plt.legend()"
      ],
      "execution_count": null,
      "outputs": [
        {
          "output_type": "execute_result",
          "data": {
            "text/plain": [
              "<matplotlib.legend.Legend at 0x1c18c004f70>"
            ]
          },
          "metadata": {
            "tags": []
          },
          "execution_count": 62
        },
        {
          "output_type": "display_data",
          "data": {
            "image/png": "[encoded data removed]",
            "text/plain": [
              "<Figure size 432x288 with 1 Axes>"
            ]
          },
          "metadata": {
            "tags": [],
            "needs_background": "light"
          }
        }
      ]
    },
    {
      "cell_type": "code",
      "metadata": {
        "id": "3pN7ynapGUWt",
        "outputId": "9b9b0478-f797-4b23-e0cb-dae0d12ffdee"
      },
      "source": [
        "plt.scatter(Soe_test[np.where(F0_test[:,d]==2)][0],Eoe_test[np.where(Soe_test[:,d]==2)][0],alpha = 0.9,marker='.',label='Sad')\n",
        "plt.scatter(Soe_test[np.where(F0_test[:,d]==0)][0],Eoe_test[np.where(Soe_test[:,d]==0)][0],alpha = 0.9,marker='x',label='Angry')\n",
        "plt.xlabel('SoE',color = 'white')\n",
        "plt.ylabel('EoE', color = 'white')\n",
        "plt.legend()"
      ],
      "execution_count": null,
      "outputs": [
        {
          "output_type": "execute_result",
          "data": {
            "text/plain": [
              "<matplotlib.legend.Legend at 0x1c18c342eb0>"
            ]
          },
          "metadata": {
            "tags": []
          },
          "execution_count": 63
        },
        {
          "output_type": "display_data",
          "data": {
            "image/png": "[encoded data removed]",
            "text/plain": [
              "<Figure size 432x288 with 1 Axes>"
            ]
          },
          "metadata": {
            "tags": [],
            "needs_background": "light"
          }
        }
      ]
    },
    {
      "cell_type": "code",
      "metadata": {
        "id": "oXSVoIJlGUWt",
        "outputId": "a455428b-780b-4cb0-961d-2c7565593a9d"
      },
      "source": [
        "k = 0\n",
        "i = 5\n",
        "for k in range(4):\n",
        "    for i in range(4,15,3):\n",
        "        emo = F0_test[np.where(F0_test[:,d]==k)][i,d]\n",
        "        pred_emo = y_predict[np.where(F0_test[:,d]==k)][i]\n",
        "        if emo == 0:\n",
        "            emotion = \"Angry\"\n",
        "        elif emo == 1:\n",
        "            emotion = \"Happy\"\n",
        "        elif emo == 2:\n",
        "            emotion = \"Sad\" \n",
        "        else:\n",
        "            emotion = \"Neutral\"\n",
        "        if pred_emo == 0:\n",
        "            pred_emotion = \"Angry\"\n",
        "        elif pred_emo == 1:\n",
        "            pred_emotion = \"Happy\"\n",
        "        elif pred_emo == 2:\n",
        "            pred_emotion = \"Sad\" \n",
        "        else:\n",
        "            pred_emotion = \"Neutral\"\n",
        "        print(\"Emotion of {}th test sample is : {}\".format(i,emotion))\n",
        "        print(\"Emotion of {}th predicted sample is : {}\".format(i,pred_emotion))\n",
        "        print()\n",
        "    print(\"====================================\")"
      ],
      "execution_count": null,
      "outputs": [
        {
          "output_type": "stream",
          "text": [
            "Emotion of 4th test sample is : Angry\n",
            "Emotion of 4th predicted sample is : Angry\n",
            "\n",
            "Emotion of 7th test sample is : Angry\n",
            "Emotion of 7th predicted sample is : Angry\n",
            "\n",
            "Emotion of 10th test sample is : Angry\n",
            "Emotion of 10th predicted sample is : Angry\n",
            "\n",
            "Emotion of 13th test sample is : Angry\n",
            "Emotion of 13th predicted sample is : Angry\n",
            "\n",
            "====================================\n",
            "Emotion of 4th test sample is : Happy\n",
            "Emotion of 4th predicted sample is : Happy\n",
            "\n",
            "Emotion of 7th test sample is : Happy\n",
            "Emotion of 7th predicted sample is : Happy\n",
            "\n",
            "Emotion of 10th test sample is : Happy\n",
            "Emotion of 10th predicted sample is : Happy\n",
            "\n",
            "Emotion of 13th test sample is : Happy\n",
            "Emotion of 13th predicted sample is : Neutral\n",
            "\n",
            "====================================\n",
            "Emotion of 4th test sample is : Sad\n",
            "Emotion of 4th predicted sample is : Sad\n",
            "\n",
            "Emotion of 7th test sample is : Sad\n",
            "Emotion of 7th predicted sample is : Sad\n",
            "\n",
            "Emotion of 10th test sample is : Sad\n",
            "Emotion of 10th predicted sample is : Sad\n",
            "\n",
            "Emotion of 13th test sample is : Sad\n",
            "Emotion of 13th predicted sample is : Sad\n",
            "\n",
            "====================================\n",
            "Emotion of 4th test sample is : Neutral\n",
            "Emotion of 4th predicted sample is : Neutral\n",
            "\n",
            "Emotion of 7th test sample is : Neutral\n",
            "Emotion of 7th predicted sample is : Neutral\n",
            "\n",
            "Emotion of 10th test sample is : Neutral\n",
            "Emotion of 10th predicted sample is : Sad\n",
            "\n",
            "Emotion of 13th test sample is : Neutral\n",
            "Emotion of 13th predicted sample is : Neutral\n",
            "\n",
            "====================================\n"
          ],
          "name": "stdout"
        }
      ]
    }
  ]
}